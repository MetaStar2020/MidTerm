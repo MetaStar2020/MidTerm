{
 "cells": [
  {
   "cell_type": "code",
   "execution_count": 10,
   "metadata": {},
   "outputs": [
    {
     "name": "stdout",
     "output_type": "stream",
     "text": [
      "{'results': [{'fsq_id': '4b0afc19f964a520212b23e3', 'categories': [{'id': 16000, 'name': 'Landmarks and Outdoors', 'icon': {'prefix': 'https://ss3.4sqi.net/img/categories_v2/parks_outdoors/field_', 'suffix': '.png'}}, {'id': 16033, 'name': 'Dog Park', 'icon': {'prefix': 'https://ss3.4sqi.net/img/categories_v2/parks_outdoors/dogrun_', 'suffix': '.png'}}], 'chains': [], 'distance': 1304, 'geocodes': {'main': {'latitude': 43.692534923091934, 'longitude': -79.42870527613704}}, 'location': {'address': '100 Glen Rd', 'country': 'CA', 'cross_street': 'Strathearn', 'locality': 'Toronto', 'postcode': 'M4W 2V7', 'region': 'ON'}, 'name': 'Cedarvale Park', 'related_places': {'children': [{'fsq_id': '61c4f0b4e565fe05c7572a44', 'name': 'Toboggan Hill'}, {'fsq_id': '5050f634e4b092c65b899303', 'name': 'Cedarvale Dog Park'}]}, 'timezone': 'America/Toronto'}, {'fsq_id': '52418b0b7e48222eea81d2d2', 'categories': [{'id': 13199, 'name': 'Indian Restaurant', 'icon': {'prefix': 'https://ss3.4sqi.net/img/categories_v2/food/indian_', 'suffix': '.png'}}], 'chains': [], 'distance': 2357, 'geocodes': {'main': {'latitude': 43.68105502412986, 'longitude': -79.4291869567722}}, 'location': {'address': '778 Saint Clair Ave W', 'country': 'CA', 'cross_street': 'St Clair West & Arlington Ave', 'locality': 'Toronto', 'neighborhood': ['York'], 'postcode': 'M6C 1B6', 'region': 'ON'}, 'name': 'Pukka', 'related_places': {}, 'timezone': 'America/Toronto'}, {'fsq_id': '4aea405ef964a52082ba21e3', 'categories': [{'id': 17058, 'name': 'Beer Store', 'icon': {'prefix': 'https://ss3.4sqi.net/img/categories_v2/nightlife/beergarden_', 'suffix': '.png'}}, {'id': 17069, 'name': 'Grocery Store / Supermarket', 'icon': {'prefix': 'https://ss3.4sqi.net/img/categories_v2/shops/food_grocery_', 'suffix': '.png'}}, {'id': 17076, 'name': 'Liquor Store', 'icon': {'prefix': 'https://ss3.4sqi.net/img/categories_v2/shops/food_liquor_', 'suffix': '.png'}}], 'chains': [], 'distance': 2885, 'geocodes': {'main': {'latitude': 43.68149682937831, 'longitude': -79.39126079276781}}, 'location': {'address': '10 Scrivener Sq', 'country': 'CA', 'cross_street': 'at Yonge St.', 'locality': 'Toronto', 'neighborhood': ['Rathnelly'], 'postcode': 'M4W 3Y9', 'region': 'ON'}, 'name': 'Lcbo', 'related_places': {}, 'timezone': 'America/Toronto'}, {'fsq_id': '5282572111d2f33612220715', 'categories': [{'id': 13034, 'name': 'Café', 'icon': {'prefix': 'https://ss3.4sqi.net/img/categories_v2/food/cafe_', 'suffix': '.png'}}, {'id': 13035, 'name': 'Coffee Shop', 'icon': {'prefix': 'https://ss3.4sqi.net/img/categories_v2/food/coffeeshop_', 'suffix': '.png'}}, {'id': 13065, 'name': 'Restaurant', 'icon': {'prefix': 'https://ss3.4sqi.net/img/categories_v2/food/default_', 'suffix': '.png'}}], 'chains': [], 'distance': 2854, 'geocodes': {'main': {'latitude': 43.681749741301466, 'longitude': -79.39144664398965}}, 'location': {'address': '1208 Yonge St', 'country': 'CA', 'cross_street': 'Summerhill', 'locality': 'Toronto', 'neighborhood': ['Midtown Toronto'], 'postcode': 'M4T 1W1', 'region': 'ON'}, 'name': 'Boxcar Social', 'related_places': {}, 'timezone': 'America/Toronto'}, {'fsq_id': '52ced2c9498e67e1059cf3b2', 'categories': [{'id': 13000, 'name': 'Dining and Drinking', 'icon': {'prefix': 'https://ss3.4sqi.net/img/categories_v2/food/default_', 'suffix': '.png'}}], 'chains': [], 'distance': 3112, 'geocodes': {'main': {'latitude': 43.67910117808306, 'longitude': -79.39068555107286}}, 'location': {'address': '5 MacPherson Ave', 'country': 'CA', 'cross_street': 'Yonge St.', 'locality': 'Toronto', 'neighborhood': ['Downtown Toronto'], 'postcode': 'M5R 1W7', 'region': 'ON'}, 'name': 'Greenhouse Juice Co', 'related_places': {}, 'timezone': 'America/Toronto'}, {'fsq_id': '4ad4c060f964a52063f720e3', 'categories': [{'id': 13064, 'name': 'Pizzeria', 'icon': {'prefix': 'https://ss3.4sqi.net/img/categories_v2/food/pizza_', 'suffix': '.png'}}, {'id': 13236, 'name': 'Italian Restaurant', 'icon': {'prefix': 'https://ss3.4sqi.net/img/categories_v2/food/italian_', 'suffix': '.png'}}], 'chains': [], 'distance': 3245, 'geocodes': {'main': {'latitude': 43.678017280681544, 'longitude': -79.44272454257002}}, 'location': {'address': '1163 Saint Clair Ave W', 'country': 'CA', 'locality': 'Toronto', 'neighborhood': ['York'], 'postcode': 'M6E 1B2', 'region': 'ON'}, 'name': \"Marcello's Pizzeria\", 'related_places': {}, 'timezone': 'America/Toronto'}, {'fsq_id': '4ad88fa9f964a520511221e3', 'categories': [{'id': 13026, 'name': 'BBQ Joint', 'icon': {'prefix': 'https://ss3.4sqi.net/img/categories_v2/food/bbqalt_', 'suffix': '.png'}}, {'id': 13035, 'name': 'Coffee Shop', 'icon': {'prefix': 'https://ss3.4sqi.net/img/categories_v2/food/coffeeshop_', 'suffix': '.png'}}, {'id': 13099, 'name': 'Chinese Restaurant', 'icon': {'prefix': 'https://ss3.4sqi.net/img/categories_v2/food/asian_', 'suffix': '.png'}}], 'chains': [], 'distance': 3357, 'geocodes': {'main': {'latitude': 43.67701587839681, 'longitude': -79.38936661984528}}, 'location': {'address': '4 Crescent Rd', 'country': 'CA', 'cross_street': 'Yonge', 'locality': 'Toronto', 'neighborhood': ['Rosedale'], 'postcode': 'M4W 1S9', 'region': 'ON'}, 'name': 'Black Camel', 'related_places': {}, 'timezone': 'America/Toronto'}, {'fsq_id': '4adcfd7cf964a5203e6321e3', 'categories': [{'id': 17069, 'name': 'Grocery Store / Supermarket', 'icon': {'prefix': 'https://ss3.4sqi.net/img/categories_v2/shops/food_grocery_', 'suffix': '.png'}}], 'chains': [], 'distance': 3531, 'geocodes': {'main': {'latitude': 43.66847077052224, 'longitude': -79.42048512748114}}, 'location': {'address': '200 Christie St', 'country': 'CA', 'cross_street': 'at Essex St', 'locality': 'Toronto', 'neighborhood': ['Christie Pitts'], 'postcode': 'M6G 3B6', 'region': 'ON'}, 'name': 'Fiesta Farms', 'related_places': {}, 'timezone': 'America/Toronto'}, {'fsq_id': '540c8301498e51456f71ae7e', 'categories': [{'id': 13034, 'name': 'Café', 'icon': {'prefix': 'https://ss3.4sqi.net/img/categories_v2/food/cafe_', 'suffix': '.png'}}], 'chains': [], 'distance': 3534, 'geocodes': {'main': {'latitude': 43.669107144072974, 'longitude': -79.42610471852032}}, 'location': {'address': '1028 Shaw St', 'country': 'CA', 'cross_street': 'Yarmouth', 'locality': 'Toronto', 'neighborhood': ['Downtown Toronto'], 'postcode': 'M6G 3N1', 'region': 'ON'}, 'name': 'Contra Cafe', 'related_places': {}, 'timezone': 'America/Toronto'}, {'fsq_id': '568333d5498e400ae0f1a732', 'categories': [{'id': 13003, 'name': 'Bar', 'icon': {'prefix': 'https://ss3.4sqi.net/img/categories_v2/nightlife/pub_', 'suffix': '.png'}}, {'id': 13029, 'name': 'Brewery', 'icon': {'prefix': 'https://ss3.4sqi.net/img/categories_v2/food/brewery_', 'suffix': '.png'}}], 'chains': [], 'distance': 3725, 'geocodes': {'main': {'latitude': 43.66994369492681, 'longitude': -79.43653285503387}}, 'location': {'address': '165 Geary Ave', 'country': 'CA', 'cross_street': 'at Barlett Ave N', 'locality': 'Toronto', 'neighborhood': ['West Toronto'], 'postcode': 'M6H 2B8', 'region': 'ON'}, 'name': 'Blood Brothers Brewing', 'related_places': {}, 'timezone': 'America/Toronto'}], 'context': {'geo_bounds': {'circle': {'center': {'latitude': 43.70011, 'longitude': -79.4163}, 'radius': 16290}}}}\n"
     ]
    }
   ],
   "source": [
    "import requests as re\n",
    "import os\n",
    "\n",
    "# global variables\n",
    "api_key = os.environ[\"FOURSQUARE_API_KEY\"]\n",
    "location = \"Toronto, Canada\"\n",
    "\n",
    "url = \"https://api.foursquare.com/v3/places/search?near=\"+location\n",
    "\n",
    "#Create dictionary for headers\n",
    "headers = {\n",
    "    \"Accept\": \"application/json\",\n",
    "    #\"Authorization\": \"fsq3isQaoEcDbafGBeVDHWI7wlMsP8VMdqirdUewNMks+J8=\"\n",
    "}\n",
    "#Add key with our API KEY\n",
    "headers['Authorization'] = api_key\n",
    "\n",
    "response = re.request(\"GET\", url, headers=headers)\n",
    "\n",
    "print(response.json())"
   ]
  },
  {
   "cell_type": "code",
   "execution_count": null,
   "metadata": {},
   "outputs": [],
   "source": []
  }
 ],
 "metadata": {
  "kernelspec": {
   "display_name": "bootcampEnv",
   "language": "python",
   "name": "bootcampenv"
  },
  "language_info": {
   "codemirror_mode": {
    "name": "ipython",
    "version": 3
   },
   "file_extension": ".py",
   "mimetype": "text/x-python",
   "name": "python",
   "nbconvert_exporter": "python",
   "pygments_lexer": "ipython3",
   "version": "3.9.7"
  }
 },
 "nbformat": 4,
 "nbformat_minor": 4
}
